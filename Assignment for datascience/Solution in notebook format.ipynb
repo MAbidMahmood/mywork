{
 "cells": [
  {
   "cell_type": "code",
   "execution_count": 11,
   "metadata": {},
   "outputs": [],
   "source": [
    "# Solution of Question 1\n",
    "\n",
    "import pandas as pd\n",
    "import numpy as np\n",
    "\n",
    "file_names = ['species.csv', 'planets.csv' , 'characters.csv', 'starships.csv', 'vehicles.csv']\n",
    "for name in file_names:\n",
    "    data = pd.read_csv(name)\n",
    "    data.dropna().to_csv('id_t1_'+name, index=False)\n"
   ]
  },
  {
   "cell_type": "code",
   "execution_count": 12,
   "metadata": {},
   "outputs": [],
   "source": [
    "# Solution of Question 2\n",
    "\n",
    "data = pd.read_csv('id_t1_characters.csv')\n",
    "humans = data[data['species'] == 'Human'].drop_duplicates()\n",
    "sort_data = humans.sort_values(by='height', axis=0, ascending=False, inplace=False, kind='quicksort', na_position='last')\n",
    "sort_data.head().to_csv('id_t2_sol.csv', index=False , columns = ['name','height'], )\n"
   ]
  },
  {
   "cell_type": "code",
   "execution_count": 13,
   "metadata": {},
   "outputs": [],
   "source": [
    "# Solution of Question 3\n",
    "\n",
    "data = pd.read_csv('id_t1_planets.csv')\n",
    "mean_distance = data[\"population\"].mean()\n",
    "sixty_percent = (mean_distance / 100 ) * 60\n",
    "\n",
    "shooting_planets = data[(data.population < (mean_distance + sixty_percent)) & (data.population > (mean_distance - sixty_percent))]\n",
    "shooting_planets.to_csv('id_t3_sol.csv', index=False) "
   ]
  },
  {
   "cell_type": "code",
   "execution_count": 14,
   "metadata": {},
   "outputs": [],
   "source": [
    "# Solution of Question 4\n",
    "\n",
    "data = pd.read_csv('id_t1_vehicles.csv')\n",
    "aggregate_dataframe = data.groupby('vehicle_class').agg({'max_atmosphering_speed': 'mean', 'passengers': 'mean'})\n",
    "aggregate_dataframe['mean_sum'] = aggregate_dataframe['max_atmosphering_speed'] + aggregate_dataframe['passengers']\n",
    "sort = aggregate_dataframe.sort_values(by=['mean_sum'], axis=0, ascending=False, inplace=False, kind='quicksort', na_position='last')\n",
    "\n",
    "sort.drop('mean_sum',axis = 1).head(3).to_csv('id_t4_sol.csv') \n"
   ]
  },
  {
   "cell_type": "code",
   "execution_count": 15,
   "metadata": {},
   "outputs": [],
   "source": [
    "# Solution of Question 5\n",
    "\n",
    "data = pd.read_csv('id_t1_starships.csv')\n",
    "data['length'] = data['length'].str.replace(',','')\n",
    "\n",
    "x = np.array(data.length)\n",
    "data.length = x.astype(np.float)\n",
    "del data['manufacturer']\n",
    "del data['cost_in_credits']\n",
    "del data['max_atmosphering_speed']\n",
    "del data['crew']\n",
    "del data['passengers']\n",
    "del data['cargo_capacity']\n",
    "del data['consumables']\n",
    "del data['hyperdrive_rating']\n",
    "del data['MGLT']\n",
    "\n",
    "\n",
    "pivedu=pd.pivot_table(data, values='length', index=['name', 'model'], columns=['starship_class'])\n",
    "pivedu.to_csv('id_t5_sol.csv')"
   ]
  },
  {
   "cell_type": "code",
   "execution_count": null,
   "metadata": {},
   "outputs": [],
   "source": []
  },
  {
   "cell_type": "code",
   "execution_count": null,
   "metadata": {},
   "outputs": [],
   "source": []
  }
 ],
 "metadata": {
  "kernelspec": {
   "display_name": "Python 3",
   "language": "python",
   "name": "python3"
  },
  "language_info": {
   "codemirror_mode": {
    "name": "ipython",
    "version": 3
   },
   "file_extension": ".py",
   "mimetype": "text/x-python",
   "name": "python",
   "nbconvert_exporter": "python",
   "pygments_lexer": "ipython3",
   "version": "3.6.8"
  }
 },
 "nbformat": 4,
 "nbformat_minor": 2
}
